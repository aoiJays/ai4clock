{
 "cells": [
  {
   "cell_type": "code",
   "id": "initial_id",
   "metadata": {
    "collapsed": true,
    "ExecuteTime": {
     "end_time": "2025-01-02T13:08:13.174042Z",
     "start_time": "2025-01-02T13:08:13.169623Z"
    }
   },
   "source": [
    "import numpy as np\n",
    "import matplotlib.pyplot as plt\n",
    "import cv2\n",
    "\n",
    "# 展示图片\n",
    "def show_img(image):\n",
    "\n",
    "\n",
    "    if len(image.shape) == 2:  # 如果图像只有高度和宽度，则为灰度图像\n",
    "        image = cv2.cvtColor(image.copy(), cv2.COLOR_GRAY2BGR)\n",
    "\n",
    "    if image is None: print(\"Error: Unable to load image.\")\n",
    "    else:\n",
    "        image_rgb = cv2.cvtColor(image, cv2.COLOR_BGR2RGB)\n",
    "        # 使用 Matplotlib 显示图像\n",
    "        plt.figure(figsize=(6, 6))\n",
    "        plt.imshow(image_rgb)\n",
    "        plt.axis('off')  # 关闭坐标轴\n",
    "        plt.show()\n"
   ],
   "outputs": [],
   "execution_count": 42
  },
  {
   "metadata": {
    "ExecuteTime": {
     "end_time": "2025-01-02T13:05:48.805893Z",
     "start_time": "2025-01-02T13:05:48.801166Z"
    }
   },
   "cell_type": "code",
   "source": [
    "\n",
    "\n",
    "def draw_segment(gray_image, x1, y1, x2, y2, color = (0,0,255)):\n",
    "\n",
    "    if len(gray_image.shape) == 2:  # 如果图像只有高度和宽度，则为灰度图像\n",
    "        color_image = cv2.cvtColor(gray_image.copy(), cv2.COLOR_GRAY2BGR)\n",
    "    else: color_image = gray_image\n",
    "\n",
    "    x1, y1, x2, y2, = int(x1), int(y1), int(x2), int(y2)\n",
    "    x1, y1 = x1, color_image.shape[1] - y1\n",
    "    x2, y2 = x2, color_image.shape[1] - y2\n",
    "    cv2.line(color_image, (x1, y1), (x2, y2), color, thickness=2)\n",
    "    return color_image\n"
   ],
   "id": "22236f1b46e48024",
   "outputs": [],
   "execution_count": 37
  },
  {
   "metadata": {
    "ExecuteTime": {
     "end_time": "2025-01-02T13:09:07.115690Z",
     "start_time": "2025-01-02T13:09:07.107521Z"
    }
   },
   "cell_type": "code",
   "source": [
    "def cross(x1, y1, x2, y2):\n",
    "    return x1 * y2 - x2 * y1\n",
    "\n",
    "def dot(x1, y1, x2, y2):\n",
    "    return x1 * x2 + y1 * y2\n",
    "\n",
    "def rotate(x, y, alpha):\n",
    "    x_rot = x * np.cos(alpha) - y * np.sin(alpha)\n",
    "    y_rot = x * np.sin(alpha) + y * np.cos(alpha)\n",
    "    return x_rot, y_rot\n",
    "\n",
    "# 初始化图像和参数\n",
    "img = np.zeros((512, 512))  # 使用浮点数类型初始化图像\n",
    "x0, y0 = 256, 256\n",
    "xp, yp = 100, 100\n",
    "\n",
    "alpha = np.radians(45)\n",
    "scan_zone_r = 30\n",
    "\n",
    "# 计算旋转后的坐标\n",
    "xp1, yp1 = rotate(xp - x0, yp - y0, alpha)\n",
    "xp1, yp1 = xp1 + x0, yp1 + y0\n",
    "\n",
    "xp2, yp2 = rotate(xp - x0, yp - y0, -alpha)\n",
    "xp2, yp2 = xp2 + x0, yp2 + y0\n"
   ],
   "id": "6b2ca8b2feac7f48",
   "outputs": [],
   "execution_count": 49
  },
  {
   "metadata": {
    "ExecuteTime": {
     "end_time": "2025-01-02T13:21:13.085685Z",
     "start_time": "2025-01-02T13:21:12.980771Z"
    }
   },
   "cell_type": "code",
   "source": [
    "import numpy as np\n",
    "import matplotlib.pyplot as plt\n",
    "\n",
    "def cross(x1, y1, x2, y2):\n",
    "    return x1 * y2 - x2 * y1\n",
    "\n",
    "def dot(x1, y1, x2, y2):\n",
    "    return x1 * x2 + y1 * y2\n",
    "\n",
    "def rotate(x, y, alpha):\n",
    "    x_rot = x * np.cos(alpha) - y * np.sin(alpha)\n",
    "    y_rot = x * np.sin(alpha) + y * np.cos(alpha)\n",
    "    return x_rot, y_rot\n",
    "\n",
    "# 初始化图像和参数\n",
    "img_shape = (512, 512)\n",
    "x0, y0 = 256, 256  # 中心点坐标\n",
    "xp, yp = 100, 100  # 给定点坐标\n",
    "\n",
    "alpha = np.radians(15)  # 角度\n",
    "scan_zone_r = 30  # 扫描范围\n",
    "\n",
    "# 计算旋转后的坐标\n",
    "xp1, yp1 = rotate(xp - x0, yp - y0, alpha)\n",
    "xp1, yp1 = xp1 + x0, yp1 + y0\n",
    "\n",
    "xp2, yp2 = rotate(xp - x0, yp - y0, -alpha)\n",
    "xp2, yp2 = xp2 + x0, yp2 + y0\n",
    "\n",
    "# 生成网格点\n",
    "Y, X = np.meshgrid(np.arange(img_shape[0]), np.arange(img_shape[1]))\n",
    "\n",
    "# 计算相对于中心点的偏移\n",
    "X_shifted = X - x0\n",
    "Y_shifted = Y - y0\n",
    "\n",
    "# 计算向量 (x0, y0) -> (xp1, yp1) 和 (x0, y0) -> (xp2, yp2)\n",
    "v1_x, v1_y = xp1 - x0, yp1 - y0\n",
    "v2_x, v2_y = xp2 - x0, yp2 - y0\n",
    "\n",
    "# 判断每个点是否在夹角范围内\n",
    "# 计算点 (X, Y) 相对于 (x0, y0) 的向量 (X_shifted, Y_shifted)\n",
    "cross_prod1 = cross(v1_x, v1_y, X_shifted, Y_shifted)\n",
    "dot_prod1 = dot(v1_x, v1_y, X_shifted, Y_shifted)\n",
    "\n",
    "cross_prod2 = cross(v2_x, v2_y, X_shifted, Y_shifted)\n",
    "dot_prod2 = dot(v2_x, v2_y, X_shifted, Y_shifted)\n",
    "\n",
    "# 点与直线 (x0, y0) -> (xp1, yp1) 和 (x0, y0) -> (xp2, yp2) 的夹角应当满足以下条件：\n",
    "# 1. 叉积和点积符号的关系满足夹角条件\n",
    "mask = (cross_prod1 >= 0) & (cross_prod2 <= 0)\n",
    "\n",
    "# 可视化结果\n",
    "plt.figure(figsize=(6, 6))\n",
    "plt.imshow(mask, cmap='gray')\n",
    "plt.scatter([x0, xp1, xp2], [y0, yp1, yp2], color='red')\n",
    "plt.plot([x0, xp1], [y0, yp1], 'r-')\n",
    "plt.plot([x0, xp2], [y0, yp2], 'r-')\n",
    "plt.title('Mask for Angle Range without Using Angles')\n",
    "plt.show()\n"
   ],
   "id": "4873e907f0de3154",
   "outputs": [
    {
     "data": {
      "text/plain": [
       "<Figure size 600x600 with 1 Axes>"
      ],
      "image/png": "[encoded data removed]"
     },
     "metadata": {},
     "output_type": "display_data"
    }
   ],
   "execution_count": 57
  },
  {
   "metadata": {
    "ExecuteTime": {
     "end_time": "2025-01-02T13:18:28.819454Z",
     "start_time": "2025-01-02T13:18:28.813310Z"
    }
   },
   "cell_type": "code",
   "source": "img",
   "id": "e56d5ffb66e20261",
   "outputs": [
    {
     "data": {
      "text/plain": [
       "array([[255.,   0.,   0., ...,   0.,   0.,   0.],\n",
       "       [  0., 255.,   0., ...,   0.,   0.,   0.],\n",
       "       [  0.,   0., 255., ...,   0.,   0.,   0.],\n",
       "       ...,\n",
       "       [  0.,   0.,   0., ..., 255., 255., 255.],\n",
       "       [  0.,   0.,   0., ..., 255., 255., 255.],\n",
       "       [  0.,   0.,   0., ..., 255., 255., 255.]], shape=(512, 512))"
      ]
     },
     "execution_count": 55,
     "metadata": {},
     "output_type": "execute_result"
    }
   ],
   "execution_count": 55
  }
 ],
 "metadata": {
  "kernelspec": {
   "display_name": "Python 3",
   "language": "python",
   "name": "python3"
  },
  "language_info": {
   "codemirror_mode": {
    "name": "ipython",
    "version": 2
   },
   "file_extension": ".py",
   "mimetype": "text/x-python",
   "name": "python",
   "nbconvert_exporter": "python",
   "pygments_lexer": "ipython2",
   "version": "2.7.6"
  }
 },
 "nbformat": 4,
 "nbformat_minor": 5
}
