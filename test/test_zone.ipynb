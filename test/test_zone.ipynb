{
 "cells": [
  {
   "metadata": {
    "ExecuteTime": {
     "end_time": "2025-01-02T20:27:43.026971Z",
     "start_time": "2025-01-02T20:27:43.023655Z"
    }
   },
   "cell_type": "code",
   "source": [
    "import cv2\n",
    "import numpy as np\n",
    "def show_img(image):\n",
    "    # OpenCV 读取的图像是 BGR 格式，而 Matplotlib 显示的是 RGB 格式\n",
    "    # 因此需要将图像从 BGR 转换为 RGB\n",
    "    if image is None: print(\"Error: Unable to load image.\")\n",
    "    else:\n",
    "        image_rgb = cv2.cvtColor(image, cv2.COLOR_BGR2RGB)\n",
    "        # 使用 Matplotlib 显示图像\n",
    "        plt.figure(figsize=(6, 6))\n",
    "        plt.imshow(image_rgb)\n",
    "        plt.axis('off')  # 关闭坐标轴\n",
    "        plt.show()"
   ],
   "id": "244735a694c9587e",
   "outputs": [],
   "execution_count": 103
  },
  {
   "metadata": {
    "ExecuteTime": {
     "end_time": "2025-01-02T20:29:21.821453Z",
     "start_time": "2025-01-02T20:29:21.781779Z"
    }
   },
   "cell_type": "code",
   "source": [
    "\n",
    "\n",
    "def rotate(x, y, angle):\n",
    "    \"\"\"旋转函数，将点 (x, y) 绕原点旋转指定角度 (angle)，返回新坐标\"\"\"\n",
    "    cos_a = np.cos(angle)\n",
    "    sin_a = np.sin(angle)\n",
    "    x_new = cos_a * x - sin_a * y\n",
    "    y_new = sin_a * x + cos_a * y\n",
    "    return x_new, y_new\n",
    "\n",
    "def cross(vx, vy, ux, uy):\n",
    "    \"\"\"计算两个向量的叉积\"\"\"\n",
    "    return vx * uy - vy * ux\n",
    "\n",
    "\n",
    "def get_scan_zone_mask(img, x0, y0, xp, yp, alpha, scan_zone_r):\n",
    "    # 生成与 img 相同大小的掩码\n",
    "    mask = np.zeros_like(img, dtype=bool)\n",
    "\n",
    "    # 生成网格，这里 X 对应列，Y 对应行\n",
    "    Y, X = np.meshgrid(np.arange(img.shape[0]), np.arange(img.shape[1]), indexing='ij')\n",
    "\n",
    "    X_shifted = X - x0\n",
    "    Y_shifted = Y - y0\n",
    "\n",
    "    # 计算圆形掩码\n",
    "    round_mask = X_shifted ** 2 + Y_shifted ** 2 <= scan_zone_r ** 2\n",
    "\n",
    "    # 限制点到圆形范围后再计算\n",
    "    X_shifted = X_shifted[round_mask]\n",
    "    Y_shifted = Y_shifted[round_mask]\n",
    "\n",
    "    # 计算旋转后的点\n",
    "    xp1, yp1 = rotate(xp - x0, yp - y0, alpha)\n",
    "    xp2, yp2 = rotate(xp - x0, yp - y0, -alpha)\n",
    "\n",
    "    # 计算向量 (x0, y0) -> (xp1, yp1) 和 (x0, y0) -> (xp2, yp2)\n",
    "    v1_x, v1_y = xp1, yp1\n",
    "    v2_x, v2_y = xp2, yp2\n",
    "\n",
    "    # 计算交叉乘积\n",
    "    cross_prod1 = cross(v1_x, v1_y, X_shifted, Y_shifted)\n",
    "    cross_prod2 = cross(v2_x, v2_y, X_shifted, Y_shifted)\n",
    "    reversed_cross_prod1 = cross(-v1_x, -v1_y, X_shifted, Y_shifted)\n",
    "    reversed_cross_prod2 = cross(-v2_x, -v2_y, X_shifted, Y_shifted)\n",
    "\n",
    "    # 创建角度区域掩码\n",
    "    angle_mask = (reversed_cross_prod1 >= 0) & (reversed_cross_prod2 <= 0) | (cross_prod1 >= 0) & (cross_prod2 <= 0)\n",
    "\n",
    "    # 合并掩码，更新原始的 mask\n",
    "    mask[round_mask] = angle_mask\n",
    "\n",
    "    return mask\n",
    "\n",
    "# 测试代码\n",
    "img = np.zeros((412, 512))  # 图像大小\n",
    "x0, y0 = 50, 220  # 原点坐标\n",
    "xp, yp = 100, 220  # 扫描区域的目标点\n",
    "alpha = np.radians(10)  # 旋转角度\n",
    "scan_zone_r = 100  # 扫描区域半径\n",
    "\n",
    "mask = get_scan_zone_mask(img, x0, y0, xp, yp, alpha, scan_zone_r)\n",
    "\n",
    "print(\"Image shape:\", img.shape)\n",
    "print(\"Mask shape:\", mask.shape)\n",
    "\n",
    "img[mask] = 255\n",
    "\n",
    "\n",
    "#\n",
    "img = img.astype(np.uint8)\n",
    "show_img(img)\n",
    "#\n",
    "# save_cv_image_with_plt(img , '../test.jpg')"
   ],
   "id": "4873e907f0de3154",
   "outputs": [
    {
     "name": "stdout",
     "output_type": "stream",
     "text": [
      "Image shape: (412, 512)\n",
      "Mask shape: (412, 512)\n"
     ]
    },
    {
     "data": {
      "text/plain": [
       "<Figure size 600x600 with 1 Axes>"
      ],
      "image/png": "[encoded data removed]"
     },
     "metadata": {},
     "output_type": "display_data"
    }
   ],
   "execution_count": 108
  },
  {
   "metadata": {},
   "cell_type": "code",
   "source": "",
   "id": "e56d5ffb66e20261",
   "outputs": [],
   "execution_count": null
  }
 ],
 "metadata": {
  "kernelspec": {
   "display_name": "Python 3",
   "language": "python",
   "name": "python3"
  },
  "language_info": {
   "codemirror_mode": {
    "name": "ipython",
    "version": 2
   },
   "file_extension": ".py",
   "mimetype": "text/x-python",
   "name": "python",
   "nbconvert_exporter": "python",
   "pygments_lexer": "ipython2",
   "version": "2.7.6"
  }
 },
 "nbformat": 4,
 "nbformat_minor": 5
}
