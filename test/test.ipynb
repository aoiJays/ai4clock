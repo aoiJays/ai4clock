{
 "cells": [
  {
   "metadata": {
    "ExecuteTime": {
     "end_time": "2025-01-24T16:16:49.728640Z",
     "start_time": "2025-01-24T16:16:49.499031Z"
    }
   },
   "cell_type": "code",
   "source": [
    "import cv2\n",
    "import numpy as np\n",
    "import matplotlib.pyplot as plt"
   ],
   "id": "b145889066f2f5b2",
   "outputs": [],
   "execution_count": 8
  },
  {
   "metadata": {
    "ExecuteTime": {
     "end_time": "2025-01-24T16:16:49.757817Z",
     "start_time": "2025-01-24T16:16:49.746879Z"
    }
   },
   "cell_type": "code",
   "source": [
    "from sklearn.cluster import KMeans\n",
    "import numpy as np\n",
    "\n",
    "def cluster_float_list(float_list, n_clusters=3):\n",
    "\n",
    "    # 如果列表长度不足聚类数量，用均值填充\n",
    "    if len(float_list) < n_clusters:\n",
    "        # 保留原有数字，不足的部分用均值填充\n",
    "        mean_value = np.mean(float_list)\n",
    "        float_list = float_list + [mean_value] * (n_clusters - len(float_list))\n",
    "\n",
    "    # 引入噪声 防止无法分类\n",
    "    float_list = np.array(float_list) + np.random.randn(len(float_list)) / 1000000000\n",
    "\n",
    "    # 将列表转换为二维数组，因为KMeans需要二维输入\n",
    "    X = np.array(float_list).reshape(-1, 1)\n",
    "\n",
    "    # 创建KMeans模型并进行拟合\n",
    "    kmeans = KMeans(n_clusters=n_clusters)\n",
    "    kmeans.fit(X)\n",
    "\n",
    "    # 获取每个簇的中心点（均值）\n",
    "    cluster_centers = kmeans.cluster_centers_\n",
    "\n",
    "    # 将中心点转换为列表并返回\n",
    "    return [center[0] for center in cluster_centers]\n",
    "\n",
    "\n",
    "# 示例用法\n",
    "if __name__ == \"__main__\":\n",
    "    # 示例 1: 列表长度足够\n",
    "    float_list_1 = [1.2, 2.3, 0.9, 4.5, 3.1, 2.8, 5.6, 6.7, 7.8, 8.9]\n",
    "    cluster_means_1 = cluster_float_list(float_list_1, n_clusters=3)\n",
    "    print(\"示例 1 - 每个簇的均值:\", cluster_means_1)\n",
    "\n",
    "    # 示例 2: 列表长度不足\n",
    "    float_list_2 = [1.2]\n",
    "    cluster_means_2 = cluster_float_list(float_list_2, n_clusters=2)\n",
    "    print(\"示例 2 - 填充后的列表:\", cluster_means_2)"
   ],
   "id": "20415d99d5b82d55",
   "outputs": [
    {
     "name": "stdout",
     "output_type": "stream",
     "text": [
      "[-1.31290542e-09  8.27492283e-10 -9.07177686e-10  1.75419582e-13\n",
      "  5.02363479e-10  4.67735467e-10  1.85222742e-10 -6.04839889e-10\n",
      " -6.72704194e-10 -1.31066320e-09]\n",
      "示例 1 - 每个簇的均值: [1.050000000171634, 7.249999999902211, 3.1750000009396278]\n",
      "[ 4.02889636e-10 -1.71760392e-09]\n",
      "示例 2 - 填充后的列表: [1.1999999998131399, 1.2000000001832525]\n"
     ]
    }
   ],
   "execution_count": 9
  }
 ],
 "metadata": {
  "kernelspec": {
   "name": "python3",
   "language": "python",
   "display_name": "Python 3 (ipykernel)"
  }
 },
 "nbformat": 5,
 "nbformat_minor": 9
}
