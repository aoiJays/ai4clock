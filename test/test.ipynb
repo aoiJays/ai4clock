{
 "cells": [
  {
   "metadata": {
    "ExecuteTime": {
     "end_time": "2024-12-30T12:28:10.039085Z",
     "start_time": "2024-12-30T12:28:09.857514Z"
    }
   },
   "cell_type": "code",
   "source": [
    "import numpy as np\n",
    "\n",
    "def rotate(x, y, alpha):\n",
    "    x_rot = x * np.cos(alpha) - y * np.sin(alpha)\n",
    "    y_rot = x * np.sin(alpha) + y * np.cos(alpha)\n",
    "    return x_rot, y_rot"
   ],
   "id": "44111bf8b63d0277",
   "outputs": [],
   "execution_count": 1
  },
  {
   "metadata": {},
   "cell_type": "markdown",
   "source": "",
   "id": "850397b5dfd712cc"
  },
  {
   "metadata": {
    "ExecuteTime": {
     "end_time": "2024-12-30T12:38:46.457593Z",
     "start_time": "2024-12-30T12:38:46.451258Z"
    }
   },
   "cell_type": "code",
   "source": [
    "def cross(x1, y1, x2, y2):\n",
    "    return x1 * y2 - x2 * y1\n",
    "\n",
    "def point_in_zone(x0, y0, x, y, vec_x, vec_y, threshold = 15):\n",
    "    x,y,vec_x, vec_y = x - x0, y - y0, vec_x - x0, vec_y - y0\n",
    "    x_rotate_vec, y_rotate_vec = rotate(vec_x, vec_y, threshold / 360 * 2 * np.pi)\n",
    "    print((x_rotate_vec + x0, y_rotate_vec + y0))\n",
    "    return cross(x,y,x_rotate_vec, y_rotate_vec) >= 0"
   ],
   "id": "283ae782b29e20d6",
   "outputs": [],
   "execution_count": 18
  },
  {
   "metadata": {
    "ExecuteTime": {
     "end_time": "2024-12-30T12:38:47.952824Z",
     "start_time": "2024-12-30T12:38:47.946882Z"
    }
   },
   "cell_type": "code",
   "source": [
    "\n",
    "print( 'yes' if point_in_zone(32, 2, 8, 1, 8, 6) else 'no')"
   ],
   "id": "c41614bba201e3f5",
   "outputs": [
    {
     "name": "stdout",
     "output_type": "stream",
     "text": [
      "(7.782503988652277, -0.3479537773042245)\n",
      "yes\n"
     ]
    }
   ],
   "execution_count": 19
  }
 ],
 "metadata": {
  "kernelspec": {
   "name": "python3",
   "language": "python",
   "display_name": "Python 3 (ipykernel)"
  }
 },
 "nbformat": 5,
 "nbformat_minor": 9
}
