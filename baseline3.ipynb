{
 "cells": [
  {
   "cell_type": "code",
   "execution_count": null,
   "id": "initial_id",
   "metadata": {
    "collapsed": true
   },
   "outputs": [],
   "source": [
    "import cv2\n",
    "import matplotlib.pyplot as plt\n",
    "import numpy as np\n",
    "from scipy.optimize import least_squares\n",
    "import yaml\n",
    "import os"
   ]
  },
  {
   "metadata": {},
   "cell_type": "code",
   "outputs": [],
   "execution_count": null,
   "source": [
    "# 数据集：\n",
    "# 'source/1.1'\n",
    "# 'source/1.2' 不推荐使用 没有正常的模板\n",
    "# 'source/1.3'\n",
    "\n",
    "source_path = 'source/1.1'\n",
    "config_file_path = os.path.join(source_path, 'config.yaml')\n",
    "\n"
   ],
   "id": "52f57dfb0d6b2726"
  },
  {
   "metadata": {},
   "cell_type": "code",
   "outputs": [],
   "execution_count": null,
   "source": [
    "\n",
    "def load_specific_config(file_path):\n",
    "    with open(file_path, 'r', encoding='utf-8') as file:\n",
    "        config = yaml.safe_load(file)\n",
    "\n",
    "    # 提取特定配置项\n",
    "    image_path = config.get('image', {}).get('path')\n",
    "    candidate_points = config.get('candidate_points', [])\n",
    "    zone_point = config.get('scan_zone', {}).get('center_point', [0, 0])\n",
    "    zone_radius = config.get('scan_zone', {}).get('radius', 0)\n",
    "    zone_theta = config.get('scan_zone', {}).get('angle', 0)\n",
    "    valid_threshold = config.get('scan_zone', {}).get('valid_threshold', 0)\n",
    "    step = config.get('scale', {}).get('step', 5)\n",
    "    start_point = config.get('scale', {}).get('start', 0.0)\n",
    "    end_point = config.get('scale', {}).get('end', 0.0)\n",
    "    precision = config.get('scale', {}).get('precision', 0)\n",
    "    unit = config.get('scale', {}).get('unit', '')\n",
    "\n",
    "    return (\n",
    "        image_path,\n",
    "        candidate_points,\n",
    "        zone_point,\n",
    "        zone_radius,\n",
    "        zone_theta,\n",
    "        valid_threshold,\n",
    "        step,\n",
    "        start_point,\n",
    "        end_point,\n",
    "        precision,\n",
    "        unit\n",
    "    )\n",
    "\n",
    "(\n",
    "    image_path,\n",
    "    candidate_point,\n",
    "    zone_point,\n",
    "    zone_radius,\n",
    "    zone_theta,\n",
    "    valid_threshold,\n",
    "    step,\n",
    "    START_POINT,\n",
    "    END_POINT,\n",
    "    PRESICISION,\n",
    "    UNIT\n",
    ") = load_specific_config(config_file_path)\n",
    "\n",
    "# 打印提取的配置项以检查是否正确加载\n",
    "print(f\"Image Path: {image_path}\")\n",
    "print(f\"Candidate Points: {candidate_point}\\n\")\n",
    "print(f\"Zone Point: {zone_point}\")\n",
    "print(f\"Zone Radius: {zone_radius}\")\n",
    "print(f\"Zone Theta: {zone_theta}\")\n",
    "print(f\"Valid Threshold: {valid_threshold}\")\n",
    "print(f\"step {step}\")\n",
    "print(f\"Start Point: {START_POINT}\\nEnd Point: {END_POINT}\")\n",
    "print(f\"Precision: {PRESICISION}\\nUnit: {UNIT}\")"
   ],
   "id": "55419a504cf8587b"
  },
  {
   "metadata": {},
   "cell_type": "code",
   "outputs": [],
   "execution_count": null,
   "source": [
    "img1 = cv2.imread(image_path)\n",
    "img2 = cv2.imread('source/1.1/img/tv20171228105011CF2FC4.jpg')"
   ],
   "id": "86a945f57c01cff0"
  },
  {
   "metadata": {},
   "cell_type": "code",
   "outputs": [],
   "execution_count": null,
   "source": [
    "# 展示图片\n",
    "def show_img(image):\n",
    "    # OpenCV 读取的图像是 BGR 格式，而 Matplotlib 显示的是 RGB 格式\n",
    "    # 因此需要将图像从 BGR 转换为 RGB\n",
    "    if image is None: print(\"Error: Unable to load image.\")\n",
    "    else:\n",
    "        image_rgb = cv2.cvtColor(image, cv2.COLOR_BGR2RGB)\n",
    "        # 使用 Matplotlib 显示图像\n",
    "        plt.figure(figsize=(12, 12))\n",
    "        plt.imshow(image_rgb)\n",
    "        plt.axis('off')  # 关闭坐标轴\n",
    "        plt.show()\n",
    "\n",
    "# 绘制点集在图片上 （reversed控制图片坐标系或真实坐标系）\n",
    "def show_point(image, x_point, y_point, color = (0, 255, 255), reversed=True):\n",
    "    image_temp = image.copy()\n",
    "    for (x, y) in zip(x_point, y_point):\n",
    "        if reversed: cv2.circle(image_temp, (int(x), int(image.shape[1] - y)), 4, color, -1)\n",
    "        else: cv2.circle(image_temp, (int(x), int(y)), 4, color, -1)\n",
    "    show_img(image_temp)"
   ],
   "id": "40cc3a841223708"
  }
 ],
 "metadata": {
  "kernelspec": {
   "display_name": "Python 3",
   "language": "python",
   "name": "python3"
  },
  "language_info": {
   "codemirror_mode": {
    "name": "ipython",
    "version": 2
   },
   "file_extension": ".py",
   "mimetype": "text/x-python",
   "name": "python",
   "nbconvert_exporter": "python",
   "pygments_lexer": "ipython2",
   "version": "2.7.6"
  }
 },
 "nbformat": 4,
 "nbformat_minor": 5
}
